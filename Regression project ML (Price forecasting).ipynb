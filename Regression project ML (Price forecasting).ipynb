{
 "cells": [
  {
   "cell_type": "code",
   "execution_count": 6,
   "metadata": {},
   "outputs": [
    {
     "name": "stderr",
     "output_type": "stream",
     "text": [
      "C:\\Users\\chigrai_au\\AppData\\Local\\Continuum\\anaconda3\\lib\\site-packages\\sklearn\\ensemble\\weight_boosting.py:29: DeprecationWarning: numpy.core.umath_tests is an internal NumPy module and should not be imported. It will be removed in a future NumPy release.\n",
      "  from numpy.core.umath_tests import inner1d\n"
     ]
    }
   ],
   "source": [
    "import numpy as np\n",
    "import pandas as pd\n",
    "import matplotlib.pyplot as plt\n",
    "import seaborn as sns\n",
    "import warnings\n",
    "\n",
    "from sklearn.model_selection import train_test_split, GridSearchCV, cross_val_score, cross_val_predict\n",
    "from sklearn.preprocessing import LabelEncoder\n",
    "\n",
    "from sklearn.ensemble import RandomForestRegressor\n",
    "from sklearn.linear_model import LinearRegression, Lasso, Ridge\n",
    "from sklearn.preprocessing import StandardScaler\n",
    "from sklearn.metrics import r2_score\n",
    "\n",
    "color = sns.color_palette()\n",
    "warnings.filterwarnings('ignore')\n",
    "\n",
    "%matplotlib inline\n",
    "\n",
    "pd.set_option('display.max_columns', 20)"
   ]
  },
  {
   "cell_type": "markdown",
   "metadata": {},
   "source": [
    "## Загрузка данных"
   ]
  },
  {
   "cell_type": "code",
   "execution_count": 7,
   "metadata": {},
   "outputs": [],
   "source": [
    "data = pd.read_csv('train.csv')\n",
    "test = pd.read_csv('test.csv')"
   ]
  },
  {
   "cell_type": "code",
   "execution_count": 8,
   "metadata": {},
   "outputs": [
    {
     "data": {
      "text/html": [
       "<div>\n",
       "<style scoped>\n",
       "    .dataframe tbody tr th:only-of-type {\n",
       "        vertical-align: middle;\n",
       "    }\n",
       "\n",
       "    .dataframe tbody tr th {\n",
       "        vertical-align: top;\n",
       "    }\n",
       "\n",
       "    .dataframe thead th {\n",
       "        text-align: right;\n",
       "    }\n",
       "</style>\n",
       "<table border=\"1\" class=\"dataframe\">\n",
       "  <thead>\n",
       "    <tr style=\"text-align: right;\">\n",
       "      <th></th>\n",
       "      <th>Id</th>\n",
       "      <th>DistrictId</th>\n",
       "      <th>Rooms</th>\n",
       "      <th>Square</th>\n",
       "      <th>LifeSquare</th>\n",
       "      <th>KitchenSquare</th>\n",
       "      <th>Floor</th>\n",
       "      <th>HouseFloor</th>\n",
       "      <th>HouseYear</th>\n",
       "      <th>Ecology_1</th>\n",
       "      <th>Ecology_2</th>\n",
       "      <th>Ecology_3</th>\n",
       "      <th>Social_1</th>\n",
       "      <th>Social_2</th>\n",
       "      <th>Social_3</th>\n",
       "      <th>Healthcare_1</th>\n",
       "      <th>Helthcare_2</th>\n",
       "      <th>Shops_1</th>\n",
       "      <th>Shops_2</th>\n",
       "      <th>Price</th>\n",
       "    </tr>\n",
       "  </thead>\n",
       "  <tbody>\n",
       "    <tr>\n",
       "      <th>0</th>\n",
       "      <td>14038</td>\n",
       "      <td>35</td>\n",
       "      <td>2.0</td>\n",
       "      <td>47.981561</td>\n",
       "      <td>29.442751</td>\n",
       "      <td>6.0</td>\n",
       "      <td>7</td>\n",
       "      <td>9.0</td>\n",
       "      <td>1969</td>\n",
       "      <td>0.089040</td>\n",
       "      <td>B</td>\n",
       "      <td>B</td>\n",
       "      <td>33</td>\n",
       "      <td>7976</td>\n",
       "      <td>5</td>\n",
       "      <td>NaN</td>\n",
       "      <td>0</td>\n",
       "      <td>11</td>\n",
       "      <td>B</td>\n",
       "      <td>184966.930730</td>\n",
       "    </tr>\n",
       "    <tr>\n",
       "      <th>1</th>\n",
       "      <td>15053</td>\n",
       "      <td>41</td>\n",
       "      <td>3.0</td>\n",
       "      <td>65.683640</td>\n",
       "      <td>40.049543</td>\n",
       "      <td>8.0</td>\n",
       "      <td>7</td>\n",
       "      <td>9.0</td>\n",
       "      <td>1978</td>\n",
       "      <td>0.000070</td>\n",
       "      <td>B</td>\n",
       "      <td>B</td>\n",
       "      <td>46</td>\n",
       "      <td>10309</td>\n",
       "      <td>1</td>\n",
       "      <td>240.0</td>\n",
       "      <td>1</td>\n",
       "      <td>16</td>\n",
       "      <td>B</td>\n",
       "      <td>300009.450063</td>\n",
       "    </tr>\n",
       "    <tr>\n",
       "      <th>2</th>\n",
       "      <td>4765</td>\n",
       "      <td>53</td>\n",
       "      <td>2.0</td>\n",
       "      <td>44.947953</td>\n",
       "      <td>29.197612</td>\n",
       "      <td>0.0</td>\n",
       "      <td>8</td>\n",
       "      <td>12.0</td>\n",
       "      <td>1968</td>\n",
       "      <td>0.049637</td>\n",
       "      <td>B</td>\n",
       "      <td>B</td>\n",
       "      <td>34</td>\n",
       "      <td>7759</td>\n",
       "      <td>0</td>\n",
       "      <td>229.0</td>\n",
       "      <td>1</td>\n",
       "      <td>3</td>\n",
       "      <td>B</td>\n",
       "      <td>220925.908524</td>\n",
       "    </tr>\n",
       "    <tr>\n",
       "      <th>3</th>\n",
       "      <td>5809</td>\n",
       "      <td>58</td>\n",
       "      <td>2.0</td>\n",
       "      <td>53.352981</td>\n",
       "      <td>52.731512</td>\n",
       "      <td>9.0</td>\n",
       "      <td>8</td>\n",
       "      <td>17.0</td>\n",
       "      <td>1977</td>\n",
       "      <td>0.437885</td>\n",
       "      <td>B</td>\n",
       "      <td>B</td>\n",
       "      <td>23</td>\n",
       "      <td>5735</td>\n",
       "      <td>3</td>\n",
       "      <td>1084.0</td>\n",
       "      <td>0</td>\n",
       "      <td>5</td>\n",
       "      <td>B</td>\n",
       "      <td>175616.227217</td>\n",
       "    </tr>\n",
       "    <tr>\n",
       "      <th>4</th>\n",
       "      <td>10783</td>\n",
       "      <td>99</td>\n",
       "      <td>1.0</td>\n",
       "      <td>39.649192</td>\n",
       "      <td>23.776169</td>\n",
       "      <td>7.0</td>\n",
       "      <td>11</td>\n",
       "      <td>12.0</td>\n",
       "      <td>1976</td>\n",
       "      <td>0.012339</td>\n",
       "      <td>B</td>\n",
       "      <td>B</td>\n",
       "      <td>35</td>\n",
       "      <td>5776</td>\n",
       "      <td>1</td>\n",
       "      <td>2078.0</td>\n",
       "      <td>2</td>\n",
       "      <td>4</td>\n",
       "      <td>B</td>\n",
       "      <td>150226.531644</td>\n",
       "    </tr>\n",
       "  </tbody>\n",
       "</table>\n",
       "</div>"
      ],
      "text/plain": [
       "      Id  DistrictId  Rooms     Square  LifeSquare  KitchenSquare  Floor  \\\n",
       "0  14038          35    2.0  47.981561   29.442751            6.0      7   \n",
       "1  15053          41    3.0  65.683640   40.049543            8.0      7   \n",
       "2   4765          53    2.0  44.947953   29.197612            0.0      8   \n",
       "3   5809          58    2.0  53.352981   52.731512            9.0      8   \n",
       "4  10783          99    1.0  39.649192   23.776169            7.0     11   \n",
       "\n",
       "   HouseFloor  HouseYear  Ecology_1 Ecology_2 Ecology_3  Social_1  Social_2  \\\n",
       "0         9.0       1969   0.089040         B         B        33      7976   \n",
       "1         9.0       1978   0.000070         B         B        46     10309   \n",
       "2        12.0       1968   0.049637         B         B        34      7759   \n",
       "3        17.0       1977   0.437885         B         B        23      5735   \n",
       "4        12.0       1976   0.012339         B         B        35      5776   \n",
       "\n",
       "   Social_3  Healthcare_1  Helthcare_2  Shops_1 Shops_2          Price  \n",
       "0         5           NaN            0       11       B  184966.930730  \n",
       "1         1         240.0            1       16       B  300009.450063  \n",
       "2         0         229.0            1        3       B  220925.908524  \n",
       "3         3        1084.0            0        5       B  175616.227217  \n",
       "4         1        2078.0            2        4       B  150226.531644  "
      ]
     },
     "execution_count": 8,
     "metadata": {},
     "output_type": "execute_result"
    }
   ],
   "source": [
    "data.head()"
   ]
  },
  {
   "cell_type": "markdown",
   "metadata": {},
   "source": [
    "Посмотрим, все ли записи в данных уникальны"
   ]
  },
  {
   "cell_type": "code",
   "execution_count": 9,
   "metadata": {},
   "outputs": [
    {
     "data": {
      "text/plain": [
       "10000"
      ]
     },
     "execution_count": 9,
     "metadata": {},
     "output_type": "execute_result"
    }
   ],
   "source": [
    "data['Id'].nunique()"
   ]
  },
  {
   "cell_type": "markdown",
   "metadata": {},
   "source": [
    "Уникальных значений - 10 000, что говорит о том, что все наблюдения в данных уникальны и нет дублей. Далее Посмотрим полноту данных в датафрейме"
   ]
  },
  {
   "cell_type": "code",
   "execution_count": 10,
   "metadata": {},
   "outputs": [
    {
     "name": "stdout",
     "output_type": "stream",
     "text": [
      "<class 'pandas.core.frame.DataFrame'>\n",
      "RangeIndex: 10000 entries, 0 to 9999\n",
      "Data columns (total 20 columns):\n",
      "Id               10000 non-null int64\n",
      "DistrictId       10000 non-null int64\n",
      "Rooms            10000 non-null float64\n",
      "Square           10000 non-null float64\n",
      "LifeSquare       7887 non-null float64\n",
      "KitchenSquare    10000 non-null float64\n",
      "Floor            10000 non-null int64\n",
      "HouseFloor       10000 non-null float64\n",
      "HouseYear        10000 non-null int64\n",
      "Ecology_1        10000 non-null float64\n",
      "Ecology_2        10000 non-null object\n",
      "Ecology_3        10000 non-null object\n",
      "Social_1         10000 non-null int64\n",
      "Social_2         10000 non-null int64\n",
      "Social_3         10000 non-null int64\n",
      "Healthcare_1     5202 non-null float64\n",
      "Helthcare_2      10000 non-null int64\n",
      "Shops_1          10000 non-null int64\n",
      "Shops_2          10000 non-null object\n",
      "Price            10000 non-null float64\n",
      "dtypes: float64(8), int64(9), object(3)\n",
      "memory usage: 1.5+ MB\n"
     ]
    }
   ],
   "source": [
    "data.info()"
   ]
  },
  {
   "cell_type": "markdown",
   "metadata": {},
   "source": [
    "В данных присутсвуют два поля \"LifeSquare\" и \"Healthcare_1\", у которых пропущены значениия. Далее посмотрим статистику по данным датафрейма"
   ]
  },
  {
   "cell_type": "code",
   "execution_count": 11,
   "metadata": {},
   "outputs": [
    {
     "data": {
      "text/html": [
       "<div>\n",
       "<style scoped>\n",
       "    .dataframe tbody tr th:only-of-type {\n",
       "        vertical-align: middle;\n",
       "    }\n",
       "\n",
       "    .dataframe tbody tr th {\n",
       "        vertical-align: top;\n",
       "    }\n",
       "\n",
       "    .dataframe thead th {\n",
       "        text-align: right;\n",
       "    }\n",
       "</style>\n",
       "<table border=\"1\" class=\"dataframe\">\n",
       "  <thead>\n",
       "    <tr style=\"text-align: right;\">\n",
       "      <th></th>\n",
       "      <th>Id</th>\n",
       "      <th>DistrictId</th>\n",
       "      <th>Rooms</th>\n",
       "      <th>Square</th>\n",
       "      <th>LifeSquare</th>\n",
       "      <th>KitchenSquare</th>\n",
       "      <th>Floor</th>\n",
       "      <th>HouseFloor</th>\n",
       "      <th>HouseYear</th>\n",
       "      <th>Ecology_1</th>\n",
       "      <th>Social_1</th>\n",
       "      <th>Social_2</th>\n",
       "      <th>Social_3</th>\n",
       "      <th>Healthcare_1</th>\n",
       "      <th>Helthcare_2</th>\n",
       "      <th>Shops_1</th>\n",
       "      <th>Price</th>\n",
       "    </tr>\n",
       "  </thead>\n",
       "  <tbody>\n",
       "    <tr>\n",
       "      <th>count</th>\n",
       "      <td>10000.00000</td>\n",
       "      <td>10000.000000</td>\n",
       "      <td>10000.000000</td>\n",
       "      <td>10000.000000</td>\n",
       "      <td>7887.000000</td>\n",
       "      <td>10000.000000</td>\n",
       "      <td>10000.000000</td>\n",
       "      <td>10000.000000</td>\n",
       "      <td>1.000000e+04</td>\n",
       "      <td>10000.000000</td>\n",
       "      <td>10000.000000</td>\n",
       "      <td>10000.000000</td>\n",
       "      <td>10000.000000</td>\n",
       "      <td>5202.000000</td>\n",
       "      <td>10000.000000</td>\n",
       "      <td>10000.000000</td>\n",
       "      <td>10000.000000</td>\n",
       "    </tr>\n",
       "    <tr>\n",
       "      <th>mean</th>\n",
       "      <td>8383.40770</td>\n",
       "      <td>50.400800</td>\n",
       "      <td>1.890500</td>\n",
       "      <td>56.315775</td>\n",
       "      <td>37.199645</td>\n",
       "      <td>6.273300</td>\n",
       "      <td>8.526700</td>\n",
       "      <td>12.609400</td>\n",
       "      <td>3.990166e+03</td>\n",
       "      <td>0.118858</td>\n",
       "      <td>24.687000</td>\n",
       "      <td>5352.157400</td>\n",
       "      <td>8.039200</td>\n",
       "      <td>1142.904460</td>\n",
       "      <td>1.319500</td>\n",
       "      <td>4.231300</td>\n",
       "      <td>214138.857399</td>\n",
       "    </tr>\n",
       "    <tr>\n",
       "      <th>std</th>\n",
       "      <td>4859.01902</td>\n",
       "      <td>43.587592</td>\n",
       "      <td>0.839512</td>\n",
       "      <td>21.058732</td>\n",
       "      <td>86.241209</td>\n",
       "      <td>28.560917</td>\n",
       "      <td>5.241148</td>\n",
       "      <td>6.775974</td>\n",
       "      <td>2.005003e+05</td>\n",
       "      <td>0.119025</td>\n",
       "      <td>17.532614</td>\n",
       "      <td>4006.799803</td>\n",
       "      <td>23.831875</td>\n",
       "      <td>1021.517264</td>\n",
       "      <td>1.493601</td>\n",
       "      <td>4.806341</td>\n",
       "      <td>92872.293865</td>\n",
       "    </tr>\n",
       "    <tr>\n",
       "      <th>min</th>\n",
       "      <td>0.00000</td>\n",
       "      <td>0.000000</td>\n",
       "      <td>0.000000</td>\n",
       "      <td>1.136859</td>\n",
       "      <td>0.370619</td>\n",
       "      <td>0.000000</td>\n",
       "      <td>1.000000</td>\n",
       "      <td>0.000000</td>\n",
       "      <td>1.910000e+03</td>\n",
       "      <td>0.000000</td>\n",
       "      <td>0.000000</td>\n",
       "      <td>168.000000</td>\n",
       "      <td>0.000000</td>\n",
       "      <td>0.000000</td>\n",
       "      <td>0.000000</td>\n",
       "      <td>0.000000</td>\n",
       "      <td>59174.778028</td>\n",
       "    </tr>\n",
       "    <tr>\n",
       "      <th>25%</th>\n",
       "      <td>4169.50000</td>\n",
       "      <td>20.000000</td>\n",
       "      <td>1.000000</td>\n",
       "      <td>41.774881</td>\n",
       "      <td>22.769832</td>\n",
       "      <td>1.000000</td>\n",
       "      <td>4.000000</td>\n",
       "      <td>9.000000</td>\n",
       "      <td>1.974000e+03</td>\n",
       "      <td>0.017647</td>\n",
       "      <td>6.000000</td>\n",
       "      <td>1564.000000</td>\n",
       "      <td>0.000000</td>\n",
       "      <td>350.000000</td>\n",
       "      <td>0.000000</td>\n",
       "      <td>1.000000</td>\n",
       "      <td>153872.633942</td>\n",
       "    </tr>\n",
       "    <tr>\n",
       "      <th>50%</th>\n",
       "      <td>8394.50000</td>\n",
       "      <td>36.000000</td>\n",
       "      <td>2.000000</td>\n",
       "      <td>52.513310</td>\n",
       "      <td>32.781260</td>\n",
       "      <td>6.000000</td>\n",
       "      <td>7.000000</td>\n",
       "      <td>13.000000</td>\n",
       "      <td>1.977000e+03</td>\n",
       "      <td>0.075424</td>\n",
       "      <td>25.000000</td>\n",
       "      <td>5285.000000</td>\n",
       "      <td>2.000000</td>\n",
       "      <td>900.000000</td>\n",
       "      <td>1.000000</td>\n",
       "      <td>3.000000</td>\n",
       "      <td>192269.644879</td>\n",
       "    </tr>\n",
       "    <tr>\n",
       "      <th>75%</th>\n",
       "      <td>12592.50000</td>\n",
       "      <td>75.000000</td>\n",
       "      <td>2.000000</td>\n",
       "      <td>65.900625</td>\n",
       "      <td>45.128803</td>\n",
       "      <td>9.000000</td>\n",
       "      <td>12.000000</td>\n",
       "      <td>17.000000</td>\n",
       "      <td>2.001000e+03</td>\n",
       "      <td>0.195781</td>\n",
       "      <td>36.000000</td>\n",
       "      <td>7227.000000</td>\n",
       "      <td>5.000000</td>\n",
       "      <td>1548.000000</td>\n",
       "      <td>2.000000</td>\n",
       "      <td>6.000000</td>\n",
       "      <td>249135.462171</td>\n",
       "    </tr>\n",
       "    <tr>\n",
       "      <th>max</th>\n",
       "      <td>16798.00000</td>\n",
       "      <td>209.000000</td>\n",
       "      <td>19.000000</td>\n",
       "      <td>641.065193</td>\n",
       "      <td>7480.592129</td>\n",
       "      <td>2014.000000</td>\n",
       "      <td>42.000000</td>\n",
       "      <td>117.000000</td>\n",
       "      <td>2.005201e+07</td>\n",
       "      <td>0.521867</td>\n",
       "      <td>74.000000</td>\n",
       "      <td>19083.000000</td>\n",
       "      <td>141.000000</td>\n",
       "      <td>4849.000000</td>\n",
       "      <td>6.000000</td>\n",
       "      <td>23.000000</td>\n",
       "      <td>633233.466570</td>\n",
       "    </tr>\n",
       "  </tbody>\n",
       "</table>\n",
       "</div>"
      ],
      "text/plain": [
       "                Id    DistrictId         Rooms        Square   LifeSquare  \\\n",
       "count  10000.00000  10000.000000  10000.000000  10000.000000  7887.000000   \n",
       "mean    8383.40770     50.400800      1.890500     56.315775    37.199645   \n",
       "std     4859.01902     43.587592      0.839512     21.058732    86.241209   \n",
       "min        0.00000      0.000000      0.000000      1.136859     0.370619   \n",
       "25%     4169.50000     20.000000      1.000000     41.774881    22.769832   \n",
       "50%     8394.50000     36.000000      2.000000     52.513310    32.781260   \n",
       "75%    12592.50000     75.000000      2.000000     65.900625    45.128803   \n",
       "max    16798.00000    209.000000     19.000000    641.065193  7480.592129   \n",
       "\n",
       "       KitchenSquare         Floor    HouseFloor     HouseYear     Ecology_1  \\\n",
       "count   10000.000000  10000.000000  10000.000000  1.000000e+04  10000.000000   \n",
       "mean        6.273300      8.526700     12.609400  3.990166e+03      0.118858   \n",
       "std        28.560917      5.241148      6.775974  2.005003e+05      0.119025   \n",
       "min         0.000000      1.000000      0.000000  1.910000e+03      0.000000   \n",
       "25%         1.000000      4.000000      9.000000  1.974000e+03      0.017647   \n",
       "50%         6.000000      7.000000     13.000000  1.977000e+03      0.075424   \n",
       "75%         9.000000     12.000000     17.000000  2.001000e+03      0.195781   \n",
       "max      2014.000000     42.000000    117.000000  2.005201e+07      0.521867   \n",
       "\n",
       "           Social_1      Social_2      Social_3  Healthcare_1   Helthcare_2  \\\n",
       "count  10000.000000  10000.000000  10000.000000   5202.000000  10000.000000   \n",
       "mean      24.687000   5352.157400      8.039200   1142.904460      1.319500   \n",
       "std       17.532614   4006.799803     23.831875   1021.517264      1.493601   \n",
       "min        0.000000    168.000000      0.000000      0.000000      0.000000   \n",
       "25%        6.000000   1564.000000      0.000000    350.000000      0.000000   \n",
       "50%       25.000000   5285.000000      2.000000    900.000000      1.000000   \n",
       "75%       36.000000   7227.000000      5.000000   1548.000000      2.000000   \n",
       "max       74.000000  19083.000000    141.000000   4849.000000      6.000000   \n",
       "\n",
       "            Shops_1          Price  \n",
       "count  10000.000000   10000.000000  \n",
       "mean       4.231300  214138.857399  \n",
       "std        4.806341   92872.293865  \n",
       "min        0.000000   59174.778028  \n",
       "25%        1.000000  153872.633942  \n",
       "50%        3.000000  192269.644879  \n",
       "75%        6.000000  249135.462171  \n",
       "max       23.000000  633233.466570  "
      ]
     },
     "execution_count": 11,
     "metadata": {},
     "output_type": "execute_result"
    }
   ],
   "source": [
    "data.describe()"
   ]
  },
  {
   "cell_type": "markdown",
   "metadata": {},
   "source": [
    "Статистика показывает, что данные не чистые и содержат явные аномалии. Например , жилая площадь равная 7481 квадратным метрам, квартира на 117 этаже, и какие-то совсем невнятные данные о годе постройки дома."
   ]
  },
  {
   "cell_type": "markdown",
   "metadata": {},
   "source": [
    "Для сравнения посмотрим описательную статистику тестовых данных"
   ]
  },
  {
   "cell_type": "code",
   "execution_count": 12,
   "metadata": {},
   "outputs": [
    {
     "data": {
      "text/html": [
       "<div>\n",
       "<style scoped>\n",
       "    .dataframe tbody tr th:only-of-type {\n",
       "        vertical-align: middle;\n",
       "    }\n",
       "\n",
       "    .dataframe tbody tr th {\n",
       "        vertical-align: top;\n",
       "    }\n",
       "\n",
       "    .dataframe thead th {\n",
       "        text-align: right;\n",
       "    }\n",
       "</style>\n",
       "<table border=\"1\" class=\"dataframe\">\n",
       "  <thead>\n",
       "    <tr style=\"text-align: right;\">\n",
       "      <th></th>\n",
       "      <th>Id</th>\n",
       "      <th>DistrictId</th>\n",
       "      <th>Rooms</th>\n",
       "      <th>Square</th>\n",
       "      <th>LifeSquare</th>\n",
       "      <th>KitchenSquare</th>\n",
       "      <th>Floor</th>\n",
       "      <th>HouseFloor</th>\n",
       "      <th>HouseYear</th>\n",
       "      <th>Ecology_1</th>\n",
       "      <th>Social_1</th>\n",
       "      <th>Social_2</th>\n",
       "      <th>Social_3</th>\n",
       "      <th>Healthcare_1</th>\n",
       "      <th>Helthcare_2</th>\n",
       "      <th>Shops_1</th>\n",
       "    </tr>\n",
       "  </thead>\n",
       "  <tbody>\n",
       "    <tr>\n",
       "      <th>count</th>\n",
       "      <td>5000.000000</td>\n",
       "      <td>5000.000000</td>\n",
       "      <td>5000.000000</td>\n",
       "      <td>5000.000000</td>\n",
       "      <td>3959.000000</td>\n",
       "      <td>5000.000000</td>\n",
       "      <td>5000.000000</td>\n",
       "      <td>5000.000000</td>\n",
       "      <td>5000.000000</td>\n",
       "      <td>5000.000000</td>\n",
       "      <td>5000.000000</td>\n",
       "      <td>5000.000000</td>\n",
       "      <td>5000.000000</td>\n",
       "      <td>2623.000000</td>\n",
       "      <td>5000.00000</td>\n",
       "      <td>5000.000000</td>\n",
       "    </tr>\n",
       "    <tr>\n",
       "      <th>mean</th>\n",
       "      <td>8412.595400</td>\n",
       "      <td>51.279200</td>\n",
       "      <td>1.910000</td>\n",
       "      <td>56.449500</td>\n",
       "      <td>36.158810</td>\n",
       "      <td>5.976800</td>\n",
       "      <td>8.632000</td>\n",
       "      <td>12.601000</td>\n",
       "      <td>1984.392600</td>\n",
       "      <td>0.119874</td>\n",
       "      <td>24.933800</td>\n",
       "      <td>5406.900000</td>\n",
       "      <td>8.262600</td>\n",
       "      <td>1146.657263</td>\n",
       "      <td>1.31940</td>\n",
       "      <td>4.242800</td>\n",
       "    </tr>\n",
       "    <tr>\n",
       "      <th>std</th>\n",
       "      <td>4832.674037</td>\n",
       "      <td>44.179466</td>\n",
       "      <td>0.838594</td>\n",
       "      <td>19.092787</td>\n",
       "      <td>17.825287</td>\n",
       "      <td>9.950018</td>\n",
       "      <td>5.483228</td>\n",
       "      <td>6.789213</td>\n",
       "      <td>18.573149</td>\n",
       "      <td>0.120070</td>\n",
       "      <td>17.532202</td>\n",
       "      <td>4026.614773</td>\n",
       "      <td>23.863762</td>\n",
       "      <td>1044.744231</td>\n",
       "      <td>1.47994</td>\n",
       "      <td>4.777365</td>\n",
       "    </tr>\n",
       "    <tr>\n",
       "      <th>min</th>\n",
       "      <td>1.000000</td>\n",
       "      <td>0.000000</td>\n",
       "      <td>0.000000</td>\n",
       "      <td>1.378543</td>\n",
       "      <td>0.333490</td>\n",
       "      <td>0.000000</td>\n",
       "      <td>1.000000</td>\n",
       "      <td>0.000000</td>\n",
       "      <td>1908.000000</td>\n",
       "      <td>0.000000</td>\n",
       "      <td>0.000000</td>\n",
       "      <td>168.000000</td>\n",
       "      <td>0.000000</td>\n",
       "      <td>0.000000</td>\n",
       "      <td>0.00000</td>\n",
       "      <td>0.000000</td>\n",
       "    </tr>\n",
       "    <tr>\n",
       "      <th>25%</th>\n",
       "      <td>4221.750000</td>\n",
       "      <td>21.000000</td>\n",
       "      <td>1.000000</td>\n",
       "      <td>41.906231</td>\n",
       "      <td>23.092026</td>\n",
       "      <td>1.000000</td>\n",
       "      <td>4.000000</td>\n",
       "      <td>9.000000</td>\n",
       "      <td>1973.000000</td>\n",
       "      <td>0.019509</td>\n",
       "      <td>6.000000</td>\n",
       "      <td>1564.000000</td>\n",
       "      <td>0.000000</td>\n",
       "      <td>325.000000</td>\n",
       "      <td>0.00000</td>\n",
       "      <td>1.000000</td>\n",
       "    </tr>\n",
       "    <tr>\n",
       "      <th>50%</th>\n",
       "      <td>8320.500000</td>\n",
       "      <td>37.000000</td>\n",
       "      <td>2.000000</td>\n",
       "      <td>52.921340</td>\n",
       "      <td>32.925087</td>\n",
       "      <td>6.000000</td>\n",
       "      <td>7.000000</td>\n",
       "      <td>12.000000</td>\n",
       "      <td>1977.000000</td>\n",
       "      <td>0.072158</td>\n",
       "      <td>25.000000</td>\n",
       "      <td>5285.000000</td>\n",
       "      <td>2.000000</td>\n",
       "      <td>900.000000</td>\n",
       "      <td>1.00000</td>\n",
       "      <td>3.000000</td>\n",
       "    </tr>\n",
       "    <tr>\n",
       "      <th>75%</th>\n",
       "      <td>12598.250000</td>\n",
       "      <td>77.000000</td>\n",
       "      <td>2.000000</td>\n",
       "      <td>66.285129</td>\n",
       "      <td>45.174091</td>\n",
       "      <td>9.000000</td>\n",
       "      <td>12.000000</td>\n",
       "      <td>17.000000</td>\n",
       "      <td>2000.000000</td>\n",
       "      <td>0.195781</td>\n",
       "      <td>36.000000</td>\n",
       "      <td>7287.000000</td>\n",
       "      <td>5.000000</td>\n",
       "      <td>1548.000000</td>\n",
       "      <td>2.00000</td>\n",
       "      <td>6.000000</td>\n",
       "    </tr>\n",
       "    <tr>\n",
       "      <th>max</th>\n",
       "      <td>16795.000000</td>\n",
       "      <td>212.000000</td>\n",
       "      <td>17.000000</td>\n",
       "      <td>223.453689</td>\n",
       "      <td>303.071094</td>\n",
       "      <td>620.000000</td>\n",
       "      <td>78.000000</td>\n",
       "      <td>99.000000</td>\n",
       "      <td>2020.000000</td>\n",
       "      <td>0.521867</td>\n",
       "      <td>74.000000</td>\n",
       "      <td>19083.000000</td>\n",
       "      <td>141.000000</td>\n",
       "      <td>4849.000000</td>\n",
       "      <td>6.00000</td>\n",
       "      <td>23.000000</td>\n",
       "    </tr>\n",
       "  </tbody>\n",
       "</table>\n",
       "</div>"
      ],
      "text/plain": [
       "                 Id   DistrictId        Rooms       Square   LifeSquare  \\\n",
       "count   5000.000000  5000.000000  5000.000000  5000.000000  3959.000000   \n",
       "mean    8412.595400    51.279200     1.910000    56.449500    36.158810   \n",
       "std     4832.674037    44.179466     0.838594    19.092787    17.825287   \n",
       "min        1.000000     0.000000     0.000000     1.378543     0.333490   \n",
       "25%     4221.750000    21.000000     1.000000    41.906231    23.092026   \n",
       "50%     8320.500000    37.000000     2.000000    52.921340    32.925087   \n",
       "75%    12598.250000    77.000000     2.000000    66.285129    45.174091   \n",
       "max    16795.000000   212.000000    17.000000   223.453689   303.071094   \n",
       "\n",
       "       KitchenSquare        Floor   HouseFloor    HouseYear    Ecology_1  \\\n",
       "count    5000.000000  5000.000000  5000.000000  5000.000000  5000.000000   \n",
       "mean        5.976800     8.632000    12.601000  1984.392600     0.119874   \n",
       "std         9.950018     5.483228     6.789213    18.573149     0.120070   \n",
       "min         0.000000     1.000000     0.000000  1908.000000     0.000000   \n",
       "25%         1.000000     4.000000     9.000000  1973.000000     0.019509   \n",
       "50%         6.000000     7.000000    12.000000  1977.000000     0.072158   \n",
       "75%         9.000000    12.000000    17.000000  2000.000000     0.195781   \n",
       "max       620.000000    78.000000    99.000000  2020.000000     0.521867   \n",
       "\n",
       "          Social_1      Social_2     Social_3  Healthcare_1  Helthcare_2  \\\n",
       "count  5000.000000   5000.000000  5000.000000   2623.000000   5000.00000   \n",
       "mean     24.933800   5406.900000     8.262600   1146.657263      1.31940   \n",
       "std      17.532202   4026.614773    23.863762   1044.744231      1.47994   \n",
       "min       0.000000    168.000000     0.000000      0.000000      0.00000   \n",
       "25%       6.000000   1564.000000     0.000000    325.000000      0.00000   \n",
       "50%      25.000000   5285.000000     2.000000    900.000000      1.00000   \n",
       "75%      36.000000   7287.000000     5.000000   1548.000000      2.00000   \n",
       "max      74.000000  19083.000000   141.000000   4849.000000      6.00000   \n",
       "\n",
       "           Shops_1  \n",
       "count  5000.000000  \n",
       "mean      4.242800  \n",
       "std       4.777365  \n",
       "min       0.000000  \n",
       "25%       1.000000  \n",
       "50%       3.000000  \n",
       "75%       6.000000  \n",
       "max      23.000000  "
      ]
     },
     "execution_count": 12,
     "metadata": {},
     "output_type": "execute_result"
    }
   ],
   "source": [
    "test.describe()"
   ]
  },
  {
   "cell_type": "markdown",
   "metadata": {},
   "source": [
    "Прежде чем исправлять данные, посмотрим типы данных для определения категориальных признаков"
   ]
  },
  {
   "cell_type": "code",
   "execution_count": 13,
   "metadata": {},
   "outputs": [
    {
     "data": {
      "text/plain": [
       "Id                 int64\n",
       "DistrictId         int64\n",
       "Rooms            float64\n",
       "Square           float64\n",
       "LifeSquare       float64\n",
       "KitchenSquare    float64\n",
       "Floor              int64\n",
       "HouseFloor       float64\n",
       "HouseYear          int64\n",
       "Ecology_1        float64\n",
       "Ecology_2         object\n",
       "Ecology_3         object\n",
       "Social_1           int64\n",
       "Social_2           int64\n",
       "Social_3           int64\n",
       "Healthcare_1     float64\n",
       "Helthcare_2        int64\n",
       "Shops_1            int64\n",
       "Shops_2           object\n",
       "Price            float64\n",
       "dtype: object"
      ]
     },
     "execution_count": 13,
     "metadata": {},
     "output_type": "execute_result"
    }
   ],
   "source": [
    "data.dtypes"
   ]
  },
  {
   "cell_type": "markdown",
   "metadata": {},
   "source": [
    "Поля Ecology_2, Ecology_3, Shops_2 имеют тип данных object, значит данные в этих полях категориальные. Проверим количество категорий в каждом поле"
   ]
  },
  {
   "cell_type": "code",
   "execution_count": 14,
   "metadata": {},
   "outputs": [
    {
     "name": "stdout",
     "output_type": "stream",
     "text": [
      "2 2 2\n"
     ]
    }
   ],
   "source": [
    "print(data['Ecology_2'].nunique(), \n",
    "      data['Ecology_3'].nunique(), \n",
    "      data['Shops_2'].nunique())"
   ]
  },
  {
   "cell_type": "markdown",
   "metadata": {},
   "source": [
    "Каждое из полей содержит только ддве категории, поэтому можно заменить значение категорий в каждом поле на 0 и 1 соответственно."
   ]
  },
  {
   "cell_type": "markdown",
   "metadata": {},
   "source": [
    "Далее посмотрим распределение цены в датафрейме"
   ]
  },
  {
   "cell_type": "code",
   "execution_count": 15,
   "metadata": {},
   "outputs": [
    {
     "data": {
      "image/png": "[encoded data removed]",
      "text/plain": [
       "<Figure size 864x576 with 1 Axes>"
      ]
     },
     "metadata": {},
     "output_type": "display_data"
    }
   ],
   "source": [
    "plt.figure(figsize=(12,8))\n",
    "sns.distplot(data['Price'], bins=50, kde=True)\n",
    "plt.xlabel('price', fontsize=12)\n",
    "plt.show()"
   ]
  },
  {
   "cell_type": "markdown",
   "metadata": {},
   "source": [
    "Распределение цены имеет большой правый хвост, что делает само распределение логнормальным. \n",
    "Так же на графике можно увидеть, что большинство квартир (домов) стоит около 200 000 долларов "
   ]
  },
  {
   "cell_type": "markdown",
   "metadata": {},
   "source": [
    "Разделим датафрейм на обучающую и проверочную выборки"
   ]
  },
  {
   "cell_type": "code",
   "execution_count": 16,
   "metadata": {},
   "outputs": [],
   "source": [
    "from sklearn.model_selection import train_test_split"
   ]
  },
  {
   "cell_type": "code",
   "execution_count": 17,
   "metadata": {},
   "outputs": [
    {
     "data": {
      "text/plain": [
       "((7000, 20), (3000, 20))"
      ]
     },
     "execution_count": 17,
     "metadata": {},
     "output_type": "execute_result"
    }
   ],
   "source": [
    "train, valid = train_test_split(data, test_size=0.3, random_state=42)\n",
    "train.shape, valid.shape"
   ]
  },
  {
   "cell_type": "markdown",
   "metadata": {},
   "source": [
    "### Первоначальная чистка  данных"
   ]
  },
  {
   "cell_type": "markdown",
   "metadata": {},
   "source": [
    "Первоначальная чистка данных будет состоять из 3-х этапов:\n",
    "1. Преобразование категориальных переменных в числовые\n",
    "2. Обработка аномальных значений\n",
    "3. обработка пустых значений\n"
   ]
  },
  {
   "cell_type": "markdown",
   "metadata": {},
   "source": [
    "Опишем функцию преобразования категориальных признаков датафрейма в числовые"
   ]
  },
  {
   "cell_type": "code",
   "execution_count": 18,
   "metadata": {},
   "outputs": [],
   "source": [
    "def change_categorial(df):\n",
    "    '''Функция обходит датафрейм и каждое поле с типом object и методом\n",
    "        LabelEncoder преобразовывает значения в числовые признаки\n",
    "    '''\n",
    "    for f in df.columns:\n",
    "        if df[f].dtype=='object':\n",
    "            lbl = LabelEncoder()\n",
    "            lbl.fit(list(df[f].values)) \n",
    "            df[f] = lbl.transform(list(df[f].values))\n",
    "            \n",
    "    return df"
   ]
  },
  {
   "cell_type": "markdown",
   "metadata": {},
   "source": [
    "Опишем функцию для поиска и корректировки аномалий в датафрейме. Аномалией будем считать в данном случае если значение датафрейма не попадает в отрезок\n",
    "\n",
    "25% квартиль - 4 \\* интеркваритильный размах, 75% квартиль + 4 \\* интерквартильный размах\n",
    "\n",
    "Значения за пределами отрезка будем приравнивать к значению соответствующего квартиля"
   ]
  },
  {
   "cell_type": "code",
   "execution_count": 19,
   "metadata": {},
   "outputs": [],
   "source": [
    "def reshape_outliers(df, df_quartiles):\n",
    "    '''\n",
    "    Описание:\n",
    "        Функция смотрит находит аномальные значения в каждом поле датафрейма и приравнивает аномалии\n",
    "        к значениям квартилей из таблицы квартилей\n",
    "        \n",
    "    Входные данные:\n",
    "        df: датафрейм с признаками\n",
    "        df_quartiles: датафрейм с квартилями признаков\n",
    "    \n",
    "    Выход: \n",
    "        датафрейм с обработанными аномальными значениями\n",
    "    '''\n",
    "    columns = df_quartiles.columns\n",
    "    for col in columns:\n",
    "        # Для каждого поля получаем значения квартилей    \n",
    "        first_quartile = df_quartiles[col]['25%']\n",
    "        third_quartile = df_quartiles[col]['75%']  \n",
    "\n",
    "        # Интерквартильный размах\n",
    "        iqr = third_quartile - first_quartile\n",
    "        \n",
    "        df.loc[df[col] < (first_quartile - 4 * iqr), col] = first_quartile\n",
    "        df.loc[df[col] > (first_quartile + 4 * iqr), col] = third_quartile\n",
    "      \n",
    "         \n",
    "    return df"
   ]
  },
  {
   "cell_type": "markdown",
   "metadata": {},
   "source": [
    "Напишем функцию обработки пустых значений признаков LifeSquare и Healthcare_1. Для LifeSquare мы заполнять на основании доли жилой площади в общей площади квартиры, а пропущенные значения Healthcare_1 заполним нулями"
   ]
  },
  {
   "cell_type": "code",
   "execution_count": 20,
   "metadata": {},
   "outputs": [],
   "source": [
    "def fill_na(df, ratio_coef):\n",
    "    '''         \n",
    "    Входные данные:\n",
    "        df: датафрейм с признаками\n",
    "        ratio_coef: средняя доля жилой площади в общей плоащди квартиры\n",
    "    \n",
    "    Выход: \n",
    "        датафрейм с заполненными пропущенными значениями\n",
    "    '''    \n",
    "    df['LifeSquare'] = df['LifeSquare'].fillna(df['Square'] * ratio_coef)\n",
    "    df['Healthcare_1'] = df['Healthcare_1'].fillna(0)\n",
    "    \n",
    "    return df    "
   ]
  },
  {
   "cell_type": "markdown",
   "metadata": {},
   "source": [
    "Соберем все функции вместе"
   ]
  },
  {
   "cell_type": "code",
   "execution_count": 21,
   "metadata": {},
   "outputs": [],
   "source": [
    "def first_clean_data(df, ratio_coef, subset, df_quartiles=None):\n",
    "    assert subset in ['train', 'test']\n",
    "    df = change_categorial(df)\n",
    "    if subset == 'train':\n",
    "        df = reshape_outliers(df, df_quartiles)\n",
    "    df = fill_na(df, ratio_coef)\n",
    "    return df"
   ]
  },
  {
   "cell_type": "markdown",
   "metadata": {},
   "source": [
    "Сделаем первоначальную очистку данных для train."
   ]
  },
  {
   "cell_type": "code",
   "execution_count": 22,
   "metadata": {},
   "outputs": [
    {
     "data": {
      "text/plain": [
       "Index(['Id', 'DistrictId', 'Rooms', 'Square', 'LifeSquare', 'KitchenSquare',\n",
       "       'Floor', 'HouseFloor', 'HouseYear', 'Ecology_1', 'Social_1', 'Social_2',\n",
       "       'Social_3', 'Healthcare_1', 'Helthcare_2', 'Shops_1'],\n",
       "      dtype='object')"
      ]
     },
     "execution_count": 22,
     "metadata": {},
     "output_type": "execute_result"
    }
   ],
   "source": [
    "# Поля, для которых необходимо убрать аномальные значения\n",
    "feat_outliers = train.drop(['Price', 'Ecology_2', 'Ecology_3', 'Shops_2'], axis=1).columns\n",
    "feat_outliers"
   ]
  },
  {
   "cell_type": "code",
   "execution_count": 23,
   "metadata": {},
   "outputs": [],
   "source": [
    "df_quartiles_train = train.describe().loc[['25%', '75%']][feat_outliers]"
   ]
  },
  {
   "cell_type": "code",
   "execution_count": 24,
   "metadata": {},
   "outputs": [],
   "source": [
    "ratio_coef = (train.loc[train['LifeSquare'].notna(), 'LifeSquare']\n",
    "              / train.loc[train['LifeSquare'].notna(), 'Square']).mean()"
   ]
  },
  {
   "cell_type": "code",
   "execution_count": 25,
   "metadata": {},
   "outputs": [],
   "source": [
    "train = first_clean_data(train, ratio_coef, 'train', df_quartiles_train)\n",
    "valid = first_clean_data(valid, ratio_coef, 'test')"
   ]
  },
  {
   "cell_type": "markdown",
   "metadata": {},
   "source": [
    "Посмотрим статистику датафрейма train после первичной обработки"
   ]
  },
  {
   "cell_type": "code",
   "execution_count": 26,
   "metadata": {},
   "outputs": [
    {
     "data": {
      "text/html": [
       "<div>\n",
       "<style scoped>\n",
       "    .dataframe tbody tr th:only-of-type {\n",
       "        vertical-align: middle;\n",
       "    }\n",
       "\n",
       "    .dataframe tbody tr th {\n",
       "        vertical-align: top;\n",
       "    }\n",
       "\n",
       "    .dataframe thead th {\n",
       "        text-align: right;\n",
       "    }\n",
       "</style>\n",
       "<table border=\"1\" class=\"dataframe\">\n",
       "  <thead>\n",
       "    <tr style=\"text-align: right;\">\n",
       "      <th></th>\n",
       "      <th>Id</th>\n",
       "      <th>DistrictId</th>\n",
       "      <th>Rooms</th>\n",
       "      <th>Square</th>\n",
       "      <th>LifeSquare</th>\n",
       "      <th>KitchenSquare</th>\n",
       "      <th>Floor</th>\n",
       "      <th>HouseFloor</th>\n",
       "      <th>HouseYear</th>\n",
       "      <th>Ecology_1</th>\n",
       "      <th>Ecology_2</th>\n",
       "      <th>Ecology_3</th>\n",
       "      <th>Social_1</th>\n",
       "      <th>Social_2</th>\n",
       "      <th>Social_3</th>\n",
       "      <th>Healthcare_1</th>\n",
       "      <th>Helthcare_2</th>\n",
       "      <th>Shops_1</th>\n",
       "      <th>Shops_2</th>\n",
       "      <th>Price</th>\n",
       "    </tr>\n",
       "  </thead>\n",
       "  <tbody>\n",
       "    <tr>\n",
       "      <th>count</th>\n",
       "      <td>7000.000000</td>\n",
       "      <td>7000.000000</td>\n",
       "      <td>7000.000000</td>\n",
       "      <td>7000.000000</td>\n",
       "      <td>7000.000000</td>\n",
       "      <td>7000.000000</td>\n",
       "      <td>7000.000000</td>\n",
       "      <td>7000.000000</td>\n",
       "      <td>7000.000000</td>\n",
       "      <td>7000.000000</td>\n",
       "      <td>7000.000000</td>\n",
       "      <td>7000.000000</td>\n",
       "      <td>7000.000000</td>\n",
       "      <td>7000.000000</td>\n",
       "      <td>7000.000000</td>\n",
       "      <td>7000.000000</td>\n",
       "      <td>7000.000000</td>\n",
       "      <td>7000.000000</td>\n",
       "      <td>7000.000000</td>\n",
       "      <td>7000.000000</td>\n",
       "    </tr>\n",
       "    <tr>\n",
       "      <th>mean</th>\n",
       "      <td>8386.061714</td>\n",
       "      <td>50.560857</td>\n",
       "      <td>1.885143</td>\n",
       "      <td>55.903119</td>\n",
       "      <td>36.552353</td>\n",
       "      <td>5.744571</td>\n",
       "      <td>8.517000</td>\n",
       "      <td>12.604286</td>\n",
       "      <td>1984.923000</td>\n",
       "      <td>0.117840</td>\n",
       "      <td>0.990857</td>\n",
       "      <td>0.971143</td>\n",
       "      <td>24.767571</td>\n",
       "      <td>5364.425714</td>\n",
       "      <td>2.900286</td>\n",
       "      <td>589.939571</td>\n",
       "      <td>1.313143</td>\n",
       "      <td>3.840429</td>\n",
       "      <td>0.916571</td>\n",
       "      <td>214449.167390</td>\n",
       "    </tr>\n",
       "    <tr>\n",
       "      <th>std</th>\n",
       "      <td>4864.141324</td>\n",
       "      <td>43.744178</td>\n",
       "      <td>0.810671</td>\n",
       "      <td>18.062588</td>\n",
       "      <td>15.674645</td>\n",
       "      <td>3.985423</td>\n",
       "      <td>5.206851</td>\n",
       "      <td>6.540737</td>\n",
       "      <td>18.308861</td>\n",
       "      <td>0.118599</td>\n",
       "      <td>0.095187</td>\n",
       "      <td>0.167417</td>\n",
       "      <td>17.583889</td>\n",
       "      <td>4011.768297</td>\n",
       "      <td>3.423034</td>\n",
       "      <td>927.590901</td>\n",
       "      <td>1.488326</td>\n",
       "      <td>3.807760</td>\n",
       "      <td>0.276549</td>\n",
       "      <td>92924.798790</td>\n",
       "    </tr>\n",
       "    <tr>\n",
       "      <th>min</th>\n",
       "      <td>0.000000</td>\n",
       "      <td>0.000000</td>\n",
       "      <td>0.000000</td>\n",
       "      <td>2.377248</td>\n",
       "      <td>0.370619</td>\n",
       "      <td>0.000000</td>\n",
       "      <td>1.000000</td>\n",
       "      <td>0.000000</td>\n",
       "      <td>1912.000000</td>\n",
       "      <td>0.000000</td>\n",
       "      <td>0.000000</td>\n",
       "      <td>0.000000</td>\n",
       "      <td>0.000000</td>\n",
       "      <td>168.000000</td>\n",
       "      <td>0.000000</td>\n",
       "      <td>0.000000</td>\n",
       "      <td>0.000000</td>\n",
       "      <td>0.000000</td>\n",
       "      <td>0.000000</td>\n",
       "      <td>59174.778028</td>\n",
       "    </tr>\n",
       "    <tr>\n",
       "      <th>25%</th>\n",
       "      <td>4176.500000</td>\n",
       "      <td>19.000000</td>\n",
       "      <td>1.000000</td>\n",
       "      <td>41.744710</td>\n",
       "      <td>24.799619</td>\n",
       "      <td>1.000000</td>\n",
       "      <td>4.000000</td>\n",
       "      <td>9.000000</td>\n",
       "      <td>1974.000000</td>\n",
       "      <td>0.017647</td>\n",
       "      <td>1.000000</td>\n",
       "      <td>1.000000</td>\n",
       "      <td>6.000000</td>\n",
       "      <td>1564.000000</td>\n",
       "      <td>0.000000</td>\n",
       "      <td>0.000000</td>\n",
       "      <td>0.000000</td>\n",
       "      <td>1.000000</td>\n",
       "      <td>1.000000</td>\n",
       "      <td>154599.240157</td>\n",
       "    </tr>\n",
       "    <tr>\n",
       "      <th>50%</th>\n",
       "      <td>8398.500000</td>\n",
       "      <td>37.000000</td>\n",
       "      <td>2.000000</td>\n",
       "      <td>52.633656</td>\n",
       "      <td>33.631432</td>\n",
       "      <td>6.000000</td>\n",
       "      <td>7.000000</td>\n",
       "      <td>14.000000</td>\n",
       "      <td>1977.000000</td>\n",
       "      <td>0.075424</td>\n",
       "      <td>1.000000</td>\n",
       "      <td>1.000000</td>\n",
       "      <td>25.000000</td>\n",
       "      <td>5285.000000</td>\n",
       "      <td>2.000000</td>\n",
       "      <td>30.000000</td>\n",
       "      <td>1.000000</td>\n",
       "      <td>3.000000</td>\n",
       "      <td>1.000000</td>\n",
       "      <td>192290.039215</td>\n",
       "    </tr>\n",
       "    <tr>\n",
       "      <th>75%</th>\n",
       "      <td>12562.000000</td>\n",
       "      <td>75.000000</td>\n",
       "      <td>2.000000</td>\n",
       "      <td>65.980788</td>\n",
       "      <td>45.121115</td>\n",
       "      <td>9.000000</td>\n",
       "      <td>12.000000</td>\n",
       "      <td>17.000000</td>\n",
       "      <td>2001.000000</td>\n",
       "      <td>0.194489</td>\n",
       "      <td>1.000000</td>\n",
       "      <td>1.000000</td>\n",
       "      <td>36.000000</td>\n",
       "      <td>7227.000000</td>\n",
       "      <td>5.000000</td>\n",
       "      <td>990.000000</td>\n",
       "      <td>2.000000</td>\n",
       "      <td>6.000000</td>\n",
       "      <td>1.000000</td>\n",
       "      <td>249080.956886</td>\n",
       "    </tr>\n",
       "    <tr>\n",
       "      <th>max</th>\n",
       "      <td>16796.000000</td>\n",
       "      <td>209.000000</td>\n",
       "      <td>5.000000</td>\n",
       "      <td>138.427694</td>\n",
       "      <td>111.455258</td>\n",
       "      <td>32.000000</td>\n",
       "      <td>33.000000</td>\n",
       "      <td>40.000000</td>\n",
       "      <td>2020.000000</td>\n",
       "      <td>0.521867</td>\n",
       "      <td>1.000000</td>\n",
       "      <td>1.000000</td>\n",
       "      <td>74.000000</td>\n",
       "      <td>19083.000000</td>\n",
       "      <td>20.000000</td>\n",
       "      <td>4849.000000</td>\n",
       "      <td>6.000000</td>\n",
       "      <td>19.000000</td>\n",
       "      <td>1.000000</td>\n",
       "      <td>627525.072788</td>\n",
       "    </tr>\n",
       "  </tbody>\n",
       "</table>\n",
       "</div>"
      ],
      "text/plain": [
       "                 Id   DistrictId        Rooms       Square   LifeSquare  \\\n",
       "count   7000.000000  7000.000000  7000.000000  7000.000000  7000.000000   \n",
       "mean    8386.061714    50.560857     1.885143    55.903119    36.552353   \n",
       "std     4864.141324    43.744178     0.810671    18.062588    15.674645   \n",
       "min        0.000000     0.000000     0.000000     2.377248     0.370619   \n",
       "25%     4176.500000    19.000000     1.000000    41.744710    24.799619   \n",
       "50%     8398.500000    37.000000     2.000000    52.633656    33.631432   \n",
       "75%    12562.000000    75.000000     2.000000    65.980788    45.121115   \n",
       "max    16796.000000   209.000000     5.000000   138.427694   111.455258   \n",
       "\n",
       "       KitchenSquare        Floor   HouseFloor    HouseYear    Ecology_1  \\\n",
       "count    7000.000000  7000.000000  7000.000000  7000.000000  7000.000000   \n",
       "mean        5.744571     8.517000    12.604286  1984.923000     0.117840   \n",
       "std         3.985423     5.206851     6.540737    18.308861     0.118599   \n",
       "min         0.000000     1.000000     0.000000  1912.000000     0.000000   \n",
       "25%         1.000000     4.000000     9.000000  1974.000000     0.017647   \n",
       "50%         6.000000     7.000000    14.000000  1977.000000     0.075424   \n",
       "75%         9.000000    12.000000    17.000000  2001.000000     0.194489   \n",
       "max        32.000000    33.000000    40.000000  2020.000000     0.521867   \n",
       "\n",
       "         Ecology_2    Ecology_3     Social_1      Social_2     Social_3  \\\n",
       "count  7000.000000  7000.000000  7000.000000   7000.000000  7000.000000   \n",
       "mean      0.990857     0.971143    24.767571   5364.425714     2.900286   \n",
       "std       0.095187     0.167417    17.583889   4011.768297     3.423034   \n",
       "min       0.000000     0.000000     0.000000    168.000000     0.000000   \n",
       "25%       1.000000     1.000000     6.000000   1564.000000     0.000000   \n",
       "50%       1.000000     1.000000    25.000000   5285.000000     2.000000   \n",
       "75%       1.000000     1.000000    36.000000   7227.000000     5.000000   \n",
       "max       1.000000     1.000000    74.000000  19083.000000    20.000000   \n",
       "\n",
       "       Healthcare_1  Helthcare_2      Shops_1      Shops_2          Price  \n",
       "count   7000.000000  7000.000000  7000.000000  7000.000000    7000.000000  \n",
       "mean     589.939571     1.313143     3.840429     0.916571  214449.167390  \n",
       "std      927.590901     1.488326     3.807760     0.276549   92924.798790  \n",
       "min        0.000000     0.000000     0.000000     0.000000   59174.778028  \n",
       "25%        0.000000     0.000000     1.000000     1.000000  154599.240157  \n",
       "50%       30.000000     1.000000     3.000000     1.000000  192290.039215  \n",
       "75%      990.000000     2.000000     6.000000     1.000000  249080.956886  \n",
       "max     4849.000000     6.000000    19.000000     1.000000  627525.072788  "
      ]
     },
     "execution_count": 26,
     "metadata": {},
     "output_type": "execute_result"
    }
   ],
   "source": [
    "train.describe()"
   ]
  },
  {
   "cell_type": "markdown",
   "metadata": {},
   "source": [
    "Теперь статистика выглядит гораздо лучше. Квартиры не более 5 комнат, год постройки не превышает 2020 год,максимальные  квартильные значения параметров теперь логичны."
   ]
  },
  {
   "cell_type": "markdown",
   "metadata": {},
   "source": [
    "### Вторичная обработка данных"
   ]
  },
  {
   "cell_type": "markdown",
   "metadata": {},
   "source": [
    "Вторичная обработка данных подразумевает 2 действия:\n",
    " 1. Поиск и удаление взимосвязанных признаков (очистка мультиколлинеарности)\n",
    " 2. Добавление новых признаков, экстраполирующих целевую переменную "
   ]
  },
  {
   "cell_type": "markdown",
   "metadata": {},
   "source": [
    "Опишем функцию, которая находит мультиколлинеарные признаки, и определим взимосвязанные признаки"
   ]
  },
  {
   "cell_type": "code",
   "execution_count": 27,
   "metadata": {},
   "outputs": [],
   "source": [
    "def get_collinear_features(df, threshold):\n",
    "    '''\n",
    "    Описание:\n",
    "        Функция обходит матрицу корреляций, сранивая попарно признаки в датафрейме.\n",
    "        Если корреляция между признаками выше установленного порога, то такие данные\n",
    "        мультиколлинеарные.\n",
    "        \n",
    "    Входные данные:\n",
    "        df: датафрейм с признаками\n",
    "        threshold: Порог корреляции, когда признаки считаются сильно связанными между собой\n",
    "    \n",
    "    Выход: \n",
    "        массив, который содержит пары мультиколлинеарных признаков\n",
    "    '''\n",
    "    \n",
    "    # Удаление целевой переменной из датафрейма   \n",
    "    x = df.drop('Price', axis=1)\n",
    "    \n",
    "    # Расчет матрицы корреляций\n",
    "    corr_matrix = x.corr()    \n",
    "    iters = range(len(corr_matrix.columns) - 1)    \n",
    "    drop_cols = []\n",
    "\n",
    "    # Обход матрицы, попарно сравнивая признаки между собой\n",
    "    for i in iters:        \n",
    "        for j in range(i+1):            \n",
    "            item = corr_matrix.iloc[j:(j+1), (i+1):(i+2)]            \n",
    "            col = item.columns            \n",
    "            row = item.index            \n",
    "            val = abs(item.values)           \n",
    "            \n",
    "            # Если корреляция превышает порог\n",
    "            if val >= threshold:                \n",
    "                drop_cols.append((col.values[0], row.values[0], round(val[0][0], 2))) \n",
    "      \n",
    "    return drop_cols"
   ]
  },
  {
   "cell_type": "code",
   "execution_count": 28,
   "metadata": {},
   "outputs": [
    {
     "data": {
      "text/plain": [
       "[('Square', 'Rooms', 0.78),\n",
       " ('LifeSquare', 'Square', 0.78),\n",
       " ('Social_2', 'Social_1', 0.96)]"
      ]
     },
     "execution_count": 28,
     "metadata": {},
     "output_type": "execute_result"
    }
   ],
   "source": [
    "get_collinear_features(train, 0.7)"
   ]
  },
  {
   "cell_type": "markdown",
   "metadata": {},
   "source": [
    "Существует 3 пары взаимозависимых переменных. Удалим из датафрейма признаки Rooms, LifeSquare, Social_1"
   ]
  },
  {
   "cell_type": "code",
   "execution_count": 29,
   "metadata": {},
   "outputs": [],
   "source": [
    "train = train.drop(['Rooms', 'LifeSquare', 'Social_1'], axis=1)\n",
    "valid = valid.drop(['Rooms', 'LifeSquare', 'Social_1'], axis=1)"
   ]
  },
  {
   "cell_type": "markdown",
   "metadata": {},
   "source": [
    "Посмотрим, какие признаки  влияют на цену квартир"
   ]
  },
  {
   "cell_type": "code",
   "execution_count": 30,
   "metadata": {},
   "outputs": [
    {
     "data": {
      "text/plain": [
       "Ecology_1       -0.064129\n",
       "Ecology_3       -0.051992\n",
       "Id               0.019332\n",
       "Ecology_2        0.030568\n",
       "HouseYear        0.035142\n",
       "Shops_2          0.061129\n",
       "HouseFloor       0.089112\n",
       "Floor            0.124719\n",
       "Healthcare_1     0.170345\n",
       "Social_2         0.240089\n",
       "Helthcare_2      0.253601\n",
       "DistrictId       0.264105\n",
       "Shops_1          0.268989\n",
       "Social_3         0.293413\n",
       "KitchenSquare    0.324810\n",
       "Square           0.594402\n",
       "Price            1.000000\n",
       "Name: Price, dtype: float64"
      ]
     },
     "execution_count": 30,
     "metadata": {},
     "output_type": "execute_result"
    }
   ],
   "source": [
    "train.corr()['Price'].sort_values()"
   ]
  },
  {
   "cell_type": "markdown",
   "metadata": {},
   "source": [
    "Построим график зависимости цены квартиры от площади"
   ]
  },
  {
   "cell_type": "code",
   "execution_count": 31,
   "metadata": {},
   "outputs": [],
   "source": [
    "def build_scatter(X, y, size=(6,6), kind='scatter'):    \n",
    "    plt.figure(figsize=size)\n",
    "    sns.jointplot(x=X, y=y, size=10, kind=kind)\n",
    "    plt.ylabel(f'{X.name}', fontsize=12)\n",
    "    plt.xlabel(f'{y.name}', fontsize=12)\n",
    "    plt.show()"
   ]
  },
  {
   "cell_type": "code",
   "execution_count": 32,
   "metadata": {},
   "outputs": [
    {
     "data": {
      "text/plain": [
       "<Figure size 432x432 with 0 Axes>"
      ]
     },
     "metadata": {},
     "output_type": "display_data"
    },
    {
     "data": {
      "image/png": "[encoded data removed]",
      "text/plain": [
       "<Figure size 720x720 with 3 Axes>"
      ]
     },
     "metadata": {},
     "output_type": "display_data"
    }
   ],
   "source": [
    "build_scatter(train['Square'], train['Price'], kind='reg')"
   ]
  },
  {
   "cell_type": "markdown",
   "metadata": {},
   "source": [
    "Цена на квартиру линейно зависит от площади квартиры. Посмотрим, есть ли взаимосвязи в ближайших по корреляции признаках"
   ]
  },
  {
   "cell_type": "code",
   "execution_count": 33,
   "metadata": {},
   "outputs": [
    {
     "data": {
      "text/plain": [
       "<Figure size 432x432 with 0 Axes>"
      ]
     },
     "metadata": {},
     "output_type": "display_data"
    },
    {
     "data": {
      "image/png": "[encoded data removed]",
      "text/plain": [
       "<Figure size 720x720 with 3 Axes>"
      ]
     },
     "metadata": {},
     "output_type": "display_data"
    }
   ],
   "source": [
    "build_scatter(train['KitchenSquare'], train['Price'], kind='reg')"
   ]
  },
  {
   "cell_type": "code",
   "execution_count": 34,
   "metadata": {},
   "outputs": [
    {
     "data": {
      "text/plain": [
       "<Figure size 432x432 with 0 Axes>"
      ]
     },
     "metadata": {},
     "output_type": "display_data"
    },
    {
     "data": {
      "image/png": "[encoded data removed]",
      "text/plain": [
       "<Figure size 720x720 with 3 Axes>"
      ]
     },
     "metadata": {},
     "output_type": "display_data"
    }
   ],
   "source": [
    "build_scatter(train['Shops_1'], train['Price'], kind='kde')"
   ]
  },
  {
   "cell_type": "markdown",
   "metadata": {},
   "source": [
    "По остальным признакам не наблюдается явной зависимости, поэтому воспользуемся дополнительными данными\n",
    "для лучшего описания целевой переменной, но сначала построим модель на базовых данных, используя модель случайного леса. В качестве метрики используется коэффициент детерминации r2_score."
   ]
  },
  {
   "cell_type": "code",
   "execution_count": 35,
   "metadata": {},
   "outputs": [],
   "source": [
    "def evaluate_model(model, X_train, X_valid, y_train, y_valid):    \n",
    "    model.fit(X_train, y_train)\n",
    "    y_pred_train = model.predict(X_train)\n",
    "    y_pred_valid = model.predict(X_valid)\n",
    "    r2_train = r2_score(y_train, y_pred_train)\n",
    "    r2_valid = r2_score(y_valid, y_pred_valid)\n",
    "    return r2_train, r2_valid"
   ]
  },
  {
   "cell_type": "code",
   "execution_count": 36,
   "metadata": {},
   "outputs": [],
   "source": [
    "X_train = train.drop(['Id','Price'], axis=1)\n",
    "X_valid = valid.drop(['Id','Price'], axis=1)\n",
    "y_train = train['Price']\n",
    "y_valid = valid['Price']"
   ]
  },
  {
   "cell_type": "code",
   "execution_count": 37,
   "metadata": {},
   "outputs": [
    {
     "name": "stdout",
     "output_type": "stream",
     "text": [
      "r2_score на обучающей выборке = 0.9418638924737193\n",
      "r2_score на тестовой выборке = 0.7345589658420479\n"
     ]
    }
   ],
   "source": [
    "model = RandomForestRegressor(n_estimators=100, max_depth=15, max_features=8, random_state=102, min_samples_leaf=1)\n",
    "r2_train, r2_valid = evaluate_model(model, X_train, X_valid, y_train, y_valid)\n",
    "print(f'r2_score на обучающей выборке = {r2_train}\\n'\n",
    "      f'r2_score на тестовой выборке = {r2_valid}')"
   ]
  },
  {
   "cell_type": "markdown",
   "metadata": {},
   "source": [
    "Теперь добавим данные, которые помогут повысить точность нашей модели"
   ]
  },
  {
   "cell_type": "markdown",
   "metadata": {},
   "source": [
    "Напишем функцию, которая группирует данные по выбранному полю и функцию, которая присоединяет полученные данные к датафрейму"
   ]
  },
  {
   "cell_type": "code",
   "execution_count": 38,
   "metadata": {},
   "outputs": [],
   "source": [
    "def get_stats(df, group, target, aggr_f='mean'):\n",
    "    '''Функция группирует поля по целевому значению. \n",
    "    В качестве агрегирующих функций принимается среднее или медиана.\n",
    "    Функция возвращает кортеж из сгруппированных данных, среднего значения и имени новой статистики'''\n",
    "    \n",
    "    grouped = df.groupby(group, as_index=False)    \n",
    "    \n",
    "    if aggr_f == 'mean':\n",
    "        stats = grouped[[target]].mean()\n",
    "        means = df[target].mean()\n",
    "    else:\n",
    "        stats = grouped[[target]].median()\n",
    "        means = df[target].median()\n",
    "        \n",
    "    name_stats = f'{aggr_f}_{group}_by_{target}'\n",
    "    stats = stats.rename(columns = {target: name_stats})    \n",
    "   \n",
    "    return stats, means, name_stats"
   ]
  },
  {
   "cell_type": "code",
   "execution_count": 39,
   "metadata": {},
   "outputs": [],
   "source": [
    "def add_stats(df, stats, means):\n",
    "    '''Функция принимает датафрейм и делает левое соединение \n",
    "    по сгрупированным данным. Пропущенные значения заполняются средним значением'''\n",
    "    \n",
    "    group = list(stats.columns[:len(stats.columns)-1])  \n",
    "    name_stats = stats.columns[-1]\n",
    "    df = pd.merge(df, stats, on=group, how='left')\n",
    "    df[name_stats] = df[name_stats].fillna(means)\n",
    "    \n",
    "    return df"
   ]
  },
  {
   "cell_type": "code",
   "execution_count": 40,
   "metadata": {},
   "outputs": [],
   "source": [
    "def apply_stats(df, stats):\n",
    "    '''Функция присоединяет статистики к датафрейму и заполняет пропущенные значения средними'''\n",
    "    for stat, mean, _ in stats:\n",
    "        df = add_stats(df, stat, mean)\n",
    "    return df"
   ]
  },
  {
   "cell_type": "markdown",
   "metadata": {},
   "source": [
    "Дополнительную статистику будем собирать в отдельный массив. Реализуем функцию, которая последовательно применяет статистики из массива статистик к датафрейму. Затем добавим новые статистики.\n",
    "\n",
    "Новые статистики были получены путем итеративной группировки пар признаков и присоединения их к датафрейму. Отобраны только статистики, повышающие коэффициент детерминации в модели RandomForest"
   ]
  },
  {
   "cell_type": "code",
   "execution_count": 41,
   "metadata": {},
   "outputs": [],
   "source": [
    "#Поиск доп. статистик\n",
    "\n",
    "#group_feats = ['DistrictId', 'Floor', 'HouseFloor', 'HouseYear', 'Helthcare_2', 'Social_2', 'Social_3', 'Shops_1']\n",
    "#on_feats = ['Square', 'Price', 'KitchenSquare', 'Floor', 'HouseFloor', 'HouseYear', 'Social_2', 'Social_3', 'Shops_1']\n",
    "\n",
    "#r2 = r2_valid\n",
    "\n",
    "#for i in on_feats:\n",
    "#    for j in group_feats:\n",
    "#        if i == j:\n",
    "#            continue\n",
    "#        stat, mean, name_stat = get_stats(train, j, i, aggr_f='median')\n",
    "#        train = add_stats(train, stat, mean)\n",
    "#        valid = add_stats(valid, stat, mean)\n",
    "        \n",
    "#        X_train = train.drop('Price', axis=1)\n",
    "#        X_valid = valid.drop('Price', axis=1)\n",
    "#        y_train = train['Price']\n",
    "#        y_valid = valid['Price']\n",
    "        \n",
    "#       model.fit(X_train, y_train)\n",
    "#        y_pred = model.predict(X_valid)\n",
    "        \n",
    "        \n",
    "#        if(r2_score(y_valid, y_pred) > r2):\n",
    "#            r2 = r2_score(y_valid, y_pred)\n",
    "#        else:\n",
    "#            train = train.drop(name_stat, axis=1)\n",
    "#           valid = valid.drop(name_stat, axis=1)\n"
   ]
  },
  {
   "cell_type": "code",
   "execution_count": 42,
   "metadata": {},
   "outputs": [],
   "source": [
    "stats = []\n",
    "stats.append(get_stats(train, 'HouseYear', 'Price', aggr_f='median'))\n",
    "stats.append(get_stats(train, 'Social_2', 'Price', aggr_f='median'))\n",
    "stats.append(get_stats(train, 'Social_2', 'Square', aggr_f='median'))\n",
    "stats.append(get_stats(train, 'Social_3', 'Square', aggr_f='median'))\n",
    "stats.append(get_stats(train, 'DistrictId', 'Square', aggr_f='median'))\n",
    "stats.append(get_stats(train, 'DistrictId', 'HouseYear', aggr_f='median'))\n",
    "stats.append(get_stats(train, 'DistrictId', 'HouseFloor', aggr_f='median'))\n",
    "stats.append(get_stats(train, 'HouseFloor', 'Price', aggr_f='median'))"
   ]
  },
  {
   "cell_type": "code",
   "execution_count": 43,
   "metadata": {},
   "outputs": [],
   "source": [
    "train = apply_stats(train, stats)\n",
    "valid = apply_stats(valid, stats)"
   ]
  },
  {
   "cell_type": "markdown",
   "metadata": {},
   "source": [
    "Посмотрим результаты моделей после применения статистик"
   ]
  },
  {
   "cell_type": "code",
   "execution_count": 44,
   "metadata": {},
   "outputs": [],
   "source": [
    "X_train = train.drop(['Id','Price'], axis=1)\n",
    "X_valid = valid.drop(['Id','Price'], axis=1)\n",
    "y_train = train['Price']\n",
    "y_valid = valid['Price']"
   ]
  },
  {
   "cell_type": "code",
   "execution_count": 46,
   "metadata": {},
   "outputs": [
    {
     "name": "stdout",
     "output_type": "stream",
     "text": [
      "r2_score на обучающей выборке = 0.9402713028084794\n",
      "r2_score на тестовой выборке = 0.7498227941922949\n"
     ]
    }
   ],
   "source": [
    "model = RandomForestRegressor(n_estimators=100, max_depth=14, max_features=10, random_state=102)\n",
    "model.fit(X_train, y_train)\n",
    "r2_train, r2_valid = evaluate_model(model, X_train, X_valid, y_train, y_valid)\n",
    "print(f'r2_score на обучающей выборке = {r2_train}\\n'\n",
    "      f'r2_score на тестовой выборке = {r2_valid}')"
   ]
  },
  {
   "cell_type": "markdown",
   "metadata": {},
   "source": [
    "Посмотрим веса признаков, которые назначил случайный лес"
   ]
  },
  {
   "cell_type": "code",
   "execution_count": 47,
   "metadata": {},
   "outputs": [
    {
     "data": {
      "image/png": "[encoded data removed]",
      "text/plain": [
       "<Figure size 720x576 with 1 Axes>"
      ]
     },
     "metadata": {},
     "output_type": "display_data"
    }
   ],
   "source": [
    "plt.figure(figsize=(10,8))\n",
    "importances = model.feature_importances_\n",
    "indices = np.argsort(importances)[::-1]\n",
    "plt.title('Baжнocти признаков')\n",
    "plt.bar(range(X_train.shape[1]), importances[indices],\n",
    "        color='lightblue',align='center')\n",
    "plt.xticks(range(X_train.shape[1]),\n",
    "          X_train.columns[indices], rotation=90)\n",
    "plt.xlim([-1, X_train.shape[1]])\n",
    "plt.tight_layout()\n",
    "plt.show()"
   ]
  },
  {
   "cell_type": "markdown",
   "metadata": {},
   "source": [
    "Теперь попробуем использовать в нашей модели всю обучающую выборку о ценить модель с помощью кросс-валидации"
   ]
  },
  {
   "cell_type": "code",
   "execution_count": 48,
   "metadata": {},
   "outputs": [],
   "source": [
    "def prepare_full_data(df):    \n",
    "    \"\"\"\n",
    "        Соединяем все обработки данных в одну функцию\n",
    "    \"\"\"\n",
    "    feat_outliers = df.drop(['Price', 'Ecology_2', 'Ecology_3', 'Shops_2'], axis=1).columns\n",
    "    df_quartiles = df.describe().loc[['25%', '75%']][feat_outliers]\n",
    "    ratio_coef = (df.loc[df['LifeSquare'].notna(), 'LifeSquare']\n",
    "              / df.loc[df['LifeSquare'].notna(), 'Square']).mean()\n",
    "    df = first_clean_data(df, ratio_coef, 'train', df_quartiles)    \n",
    "    df = df.drop(['Rooms', 'LifeSquare', 'Social_1'], axis=1)\n",
    "    \n",
    "    stats = []\n",
    "    stats.append(get_stats(df, 'HouseYear', 'Price', aggr_f='median'))\n",
    "    stats.append(get_stats(df, 'Social_2', 'Price', aggr_f='median'))\n",
    "    stats.append(get_stats(df, 'Social_2', 'Square', aggr_f='median'))\n",
    "    stats.append(get_stats(df, 'Social_3', 'Square', aggr_f='median'))\n",
    "    stats.append(get_stats(df, 'DistrictId', 'Square', aggr_f='median'))\n",
    "    stats.append(get_stats(df, 'DistrictId', 'HouseYear', aggr_f='median'))\n",
    "    stats.append(get_stats(df, 'DistrictId', 'HouseFloor', aggr_f='median'))\n",
    "    stats.append(get_stats(df, 'HouseFloor', 'Price', aggr_f='median'))\n",
    "    df = apply_stats(df, stats)\n",
    "    return df, stats, ratio_coef"
   ]
  },
  {
   "cell_type": "code",
   "execution_count": 49,
   "metadata": {},
   "outputs": [],
   "source": [
    "data, stats, ratio_coef = prepare_full_data(data)\n",
    "X = data.drop(['Id', 'Price'], axis=1)\n",
    "y = data['Price']"
   ]
  },
  {
   "cell_type": "code",
   "execution_count": 50,
   "metadata": {},
   "outputs": [
    {
     "data": {
      "text/plain": [
       "GridSearchCV(cv=5, error_score='raise',\n",
       "       estimator=RandomForestRegressor(bootstrap=True, criterion='mse', max_depth=None,\n",
       "           max_features='auto', max_leaf_nodes=None,\n",
       "           min_impurity_decrease=0.0, min_impurity_split=None,\n",
       "           min_samples_leaf=1, min_samples_split=2,\n",
       "           min_weight_fraction_leaf=0.0, n_estimators=100, n_jobs=1,\n",
       "           oob_score=False, random_state=102, verbose=0, warm_start=False),\n",
       "       fit_params=None, iid=True, n_jobs=1,\n",
       "       param_grid={'max_depth': range(8, 15), 'max_features': range(7, 15)},\n",
       "       pre_dispatch='2*n_jobs', refit=True, return_train_score='warn',\n",
       "       scoring='r2', verbose=0)"
      ]
     },
     "execution_count": 50,
     "metadata": {},
     "output_type": "execute_result"
    }
   ],
   "source": [
    "# Поиск по сетке\n",
    "params = {'max_depth': range(8,15), 'max_features': range(7, 15)}\n",
    "rfr = RandomForestRegressor(n_estimators=100, random_state=102)\n",
    "clf = GridSearchCV(rfr, params, cv=5, scoring=\"r2\")\n",
    "clf.fit(X, y)"
   ]
  },
  {
   "cell_type": "code",
   "execution_count": 51,
   "metadata": {},
   "outputs": [
    {
     "data": {
      "text/plain": [
       "{'max_depth': 14, 'max_features': 10}"
      ]
     },
     "execution_count": 51,
     "metadata": {},
     "output_type": "execute_result"
    }
   ],
   "source": [
    "clf.best_params_"
   ]
  },
  {
   "cell_type": "code",
   "execution_count": 52,
   "metadata": {},
   "outputs": [],
   "source": [
    "def evaluate_model(model, X, y):\n",
    "    scores = cross_val_score(model, X, y, cv=5, scoring='r2')    \n",
    "    return scores.mean()"
   ]
  },
  {
   "cell_type": "code",
   "execution_count": 53,
   "metadata": {},
   "outputs": [
    {
     "data": {
      "text/plain": [
       "0.7542442379361676"
      ]
     },
     "execution_count": 53,
     "metadata": {},
     "output_type": "execute_result"
    }
   ],
   "source": [
    "model = RandomForestRegressor(n_estimators=100, max_depth=14, max_features=10, random_state=102)\n",
    "evaluate_model(model, X, y)"
   ]
  },
  {
   "cell_type": "code",
   "execution_count": 54,
   "metadata": {},
   "outputs": [
    {
     "data": {
      "text/plain": [
       "RandomForestRegressor(bootstrap=True, criterion='mse', max_depth=14,\n",
       "           max_features=10, max_leaf_nodes=None, min_impurity_decrease=0.0,\n",
       "           min_impurity_split=None, min_samples_leaf=1,\n",
       "           min_samples_split=2, min_weight_fraction_leaf=0.0,\n",
       "           n_estimators=100, n_jobs=1, oob_score=False, random_state=102,\n",
       "           verbose=0, warm_start=False)"
      ]
     },
     "execution_count": 54,
     "metadata": {},
     "output_type": "execute_result"
    }
   ],
   "source": [
    "model.fit(X, y)"
   ]
  },
  {
   "cell_type": "markdown",
   "metadata": {},
   "source": [
    "теперь применим обученную модель RandomForest на тестовых данных. Сперва напишем функцию обработки тестовых данных"
   ]
  },
  {
   "cell_type": "code",
   "execution_count": 55,
   "metadata": {},
   "outputs": [],
   "source": [
    "def prepare_test_data(df, ratio_coef, stats):    \n",
    "    df = first_clean_data(df, ratio_coef, 'test')    \n",
    "    df = df.drop(['Rooms', 'LifeSquare', 'Social_1'], axis=1)\n",
    "    df = apply_stats(df, stats)\n",
    "    return df"
   ]
  },
  {
   "cell_type": "code",
   "execution_count": 56,
   "metadata": {},
   "outputs": [],
   "source": [
    "test = prepare_test_data(test, ratio_coef, stats)"
   ]
  },
  {
   "cell_type": "code",
   "execution_count": 57,
   "metadata": {},
   "outputs": [],
   "source": [
    "test['Price'] = model.predict(test.drop('Id', axis=1))"
   ]
  },
  {
   "cell_type": "markdown",
   "metadata": {},
   "source": [
    "Посмотрим распределение прогнозной цены"
   ]
  },
  {
   "cell_type": "code",
   "execution_count": 58,
   "metadata": {},
   "outputs": [
    {
     "data": {
      "image/png": "[encoded data removed]",
      "text/plain": [
       "<Figure size 864x576 with 1 Axes>"
      ]
     },
     "metadata": {},
     "output_type": "display_data"
    }
   ],
   "source": [
    "plt.figure(figsize=(12,8))\n",
    "sns.distplot(test['Price'], bins=50, kde=True)\n",
    "plt.xlabel('price', fontsize=12)\n",
    "plt.show()"
   ]
  },
  {
   "cell_type": "markdown",
   "metadata": {},
   "source": [
    "Распределение прогнорзной цены совпадает с распределением цены на обучающей выборка, что может говорить о примерном соответствии данных истинным значениям. Выгрузим прогнозные цены в файл"
   ]
  },
  {
   "cell_type": "code",
   "execution_count": 59,
   "metadata": {},
   "outputs": [],
   "source": [
    "test.loc[:, ['Id','Price']].to_csv('AChigrai_predictions.csv', index=None)"
   ]
  }
 ],
 "metadata": {
  "kernelspec": {
   "display_name": "Python 3",
   "language": "python",
   "name": "python3"
  },
  "language_info": {
   "codemirror_mode": {
    "name": "ipython",
    "version": 3
   },
   "file_extension": ".py",
   "mimetype": "text/x-python",
   "name": "python",
   "nbconvert_exporter": "python",
   "pygments_lexer": "ipython3",
   "version": "3.6.5"
  }
 },
 "nbformat": 4,
 "nbformat_minor": 2
}
